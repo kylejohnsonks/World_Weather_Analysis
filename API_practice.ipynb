{
 "cells": [
  {
   "cell_type": "code",
   "execution_count": 66,
   "id": "6ebbb126",
   "metadata": {},
   "outputs": [],
   "source": [
    "# Use the citipy module to determine city based on latitude and longitude.\n",
    "from citipy import citipy"
   ]
  },
  {
   "cell_type": "code",
   "execution_count": 67,
   "id": "49a52fa9",
   "metadata": {},
   "outputs": [],
   "source": [
    "# Create a practice set of random latitude and longitude combinations.\n",
    "x = [25.12903645, 25.92017388, 26.62509167, -59.98969384, 37.30571269]\n",
    "y = [-67.59741259, 11.09532135, 74.84233102, -76.89176677, -61.13376282]\n",
    "coordinates = zip(x, y)"
   ]
  },
  {
   "cell_type": "code",
   "execution_count": 68,
   "id": "e0671045",
   "metadata": {},
   "outputs": [],
   "source": [
    "#Use tuple function to display lat/lng pairs\n",
    "#for coordinate in coordinates:\n",
    " #   print(coordinate[0],coordinate[1])"
   ]
  },
  {
   "cell_type": "code",
   "execution_count": 69,
   "id": "7d5c2828",
   "metadata": {},
   "outputs": [
    {
     "data": {
      "text/plain": [
       "[(25.12903645, -67.59741259),\n",
       " (25.92017388, 11.09532135),\n",
       " (26.62509167, 74.84233102),\n",
       " (-59.98969384, -76.89176677),\n",
       " (37.30571269, -61.13376282)]"
      ]
     },
     "execution_count": 69,
     "metadata": {},
     "output_type": "execute_result"
    }
   ],
   "source": [
    "coordinate_list=list(coordinates)\n",
    "coordinate_list"
   ]
  },
  {
   "cell_type": "code",
   "execution_count": 70,
   "id": "e5a2c43a",
   "metadata": {},
   "outputs": [],
   "source": [
    "#for coordinate in coordinates:\n",
    " #   print(citipy.nearest_city(coordinate[0],coordinate[1]).city_name,\n",
    "  #        citipy.nearest_city(coordinate[0],coordinate[1]).country_code)"
   ]
  },
  {
   "cell_type": "code",
   "execution_count": 71,
   "id": "ec49de69",
   "metadata": {},
   "outputs": [
    {
     "name": "stdout",
     "output_type": "stream",
     "text": [
      "cockburn town tc\n",
      "gat ly\n",
      "parvatsar in\n",
      "punta arenas cl\n",
      "saint george bm\n"
     ]
    }
   ],
   "source": [
    "# Use the tuple() function to display the latitude and longitude combinations.\n",
    "for coordinate in coordinate_list:\n",
    "    print(citipy.nearest_city(coordinate[0], coordinate[1]).city_name,\n",
    "          citipy.nearest_city(coordinate[0], coordinate[1]).country_code)\n"
   ]
  },
  {
   "cell_type": "code",
   "execution_count": 72,
   "id": "6f104bb3",
   "metadata": {},
   "outputs": [],
   "source": [
    "#import requests library\n",
    "import requests\n",
    "\n",
    "#import API key\n",
    "from config import weather_api_key"
   ]
  },
  {
   "cell_type": "code",
   "execution_count": 73,
   "id": "09b2ff5d",
   "metadata": {},
   "outputs": [],
   "source": [
    "#starting URL for Weather Map API Call\n",
    "url = \"http://api.openweathermap.org/data/2.5/weather?units=Imperial&APPID=\" + weather_api_key\n"
   ]
  },
  {
   "cell_type": "code",
   "execution_count": 74,
   "id": "e13f6135",
   "metadata": {},
   "outputs": [],
   "source": [
    "#add city to url\n",
    "city_url=url+\"&q=\"+\"Boston\"\n"
   ]
  },
  {
   "cell_type": "code",
   "execution_count": 75,
   "id": "b910bd3b",
   "metadata": {},
   "outputs": [],
   "source": [
    "#use .get() to retrieve weather\n",
    "city_weather=requests.get(city_url)"
   ]
  },
  {
   "cell_type": "code",
   "execution_count": 87,
   "id": "089d8e6e",
   "metadata": {},
   "outputs": [
    {
     "name": "stdout",
     "output_type": "stream",
     "text": [
      "Yo, it's all good\n"
     ]
    }
   ],
   "source": [
    "#check for errors in get request\n",
    "if city_weather.status_code==200:\n",
    "    print(f\"Yo, it's all good\")\n",
    "else:\n",
    "    print(f\"Dang baby, we got a probelm\")"
   ]
  },
  {
   "cell_type": "code",
   "execution_count": 88,
   "id": "c8067411",
   "metadata": {},
   "outputs": [
    {
     "data": {
      "text/plain": [
       "<Response [200]>"
      ]
     },
     "execution_count": 88,
     "metadata": {},
     "output_type": "execute_result"
    }
   ],
   "source": [
    "city_weather"
   ]
  },
  {
   "cell_type": "code",
   "execution_count": 89,
   "id": "8cf427eb",
   "metadata": {},
   "outputs": [
    {
     "data": {
      "text/plain": [
       "{'coord': {'lon': -71.0598, 'lat': 42.3584},\n",
       " 'weather': [{'id': 803,\n",
       "   'main': 'Clouds',\n",
       "   'description': 'broken clouds',\n",
       "   'icon': '04d'}],\n",
       " 'base': 'stations',\n",
       " 'main': {'temp': 37.56,\n",
       "  'feels_like': 30.99,\n",
       "  'temp_min': 33.64,\n",
       "  'temp_max': 39.31,\n",
       "  'pressure': 1012,\n",
       "  'humidity': 44},\n",
       " 'visibility': 10000,\n",
       " 'wind': {'speed': 9.22, 'deg': 270},\n",
       " 'clouds': {'all': 75},\n",
       " 'dt': 1638120360,\n",
       " 'sys': {'type': 1,\n",
       "  'id': 3486,\n",
       "  'country': 'US',\n",
       "  'sunrise': 1638100259,\n",
       "  'sunset': 1638134042},\n",
       " 'timezone': -18000,\n",
       " 'id': 4930956,\n",
       " 'name': 'Boston',\n",
       " 'cod': 200}"
      ]
     },
     "execution_count": 89,
     "metadata": {},
     "output_type": "execute_result"
    }
   ],
   "source": [
    "#Get JSON\n",
    "boston_data=city_weather.json()\n",
    "boston_data"
   ]
  },
  {
   "cell_type": "code",
   "execution_count": 90,
   "id": "c37a8fb0",
   "metadata": {},
   "outputs": [
    {
     "data": {
      "text/plain": [
       "42.3584"
      ]
     },
     "execution_count": 90,
     "metadata": {},
     "output_type": "execute_result"
    }
   ],
   "source": [
    "boston_data[\"coord\"][\"lat\"]"
   ]
  },
  {
   "cell_type": "code",
   "execution_count": 91,
   "id": "34b785d3",
   "metadata": {},
   "outputs": [
    {
     "data": {
      "text/plain": [
       "'US'"
      ]
     },
     "execution_count": 91,
     "metadata": {},
     "output_type": "execute_result"
    }
   ],
   "source": [
    "boston_data[\"sys\"][\"country\"]"
   ]
  },
  {
   "cell_type": "code",
   "execution_count": 92,
   "id": "49bd2bcd",
   "metadata": {},
   "outputs": [
    {
     "data": {
      "text/plain": [
       "1638120360"
      ]
     },
     "execution_count": 92,
     "metadata": {},
     "output_type": "execute_result"
    }
   ],
   "source": [
    "boston_data[\"dt\"]"
   ]
  },
  {
   "cell_type": "code",
   "execution_count": 93,
   "id": "c929d8b0",
   "metadata": {},
   "outputs": [
    {
     "name": "stdout",
     "output_type": "stream",
     "text": [
      "42.3584 -71.0598 39.31 44 75 9.22\n"
     ]
    }
   ],
   "source": [
    "lat = boston_data[\"coord\"][\"lat\"]\n",
    "lng = boston_data[\"coord\"][\"lon\"]\n",
    "max_temp = boston_data[\"main\"][\"temp_max\"]\n",
    "humidity = boston_data[\"main\"][\"humidity\"]\n",
    "clouds = boston_data[\"clouds\"][\"all\"]\n",
    "wind = boston_data[\"wind\"][\"speed\"]\n",
    "print(lat, lng, max_temp, humidity, clouds, wind)"
   ]
  },
  {
   "cell_type": "code",
   "execution_count": 96,
   "id": "466b6b63",
   "metadata": {},
   "outputs": [
    {
     "data": {
      "text/plain": [
       "'2021-11-28 17:26:00'"
      ]
     },
     "execution_count": 96,
     "metadata": {},
     "output_type": "execute_result"
    }
   ],
   "source": [
    "#import datetime module from datetime library\n",
    "from datetime import datetime\n",
    "\n",
    "#get date from jSON\n",
    "date=boston_data[\"dt\"]\n",
    "\n",
    "#covert the utc date to date format with year, month, day, hours, minutes and seconds\n",
    "date=datetime.utcfromtimestamp(date).strftime(\"%Y-%m-%d %H:%M:%S\")\n",
    "date"
   ]
  },
  {
   "cell_type": "code",
   "execution_count": null,
   "id": "1bbec0d8",
   "metadata": {},
   "outputs": [],
   "source": []
  }
 ],
 "metadata": {
  "kernelspec": {
   "display_name": "PythonData",
   "language": "python",
   "name": "pythondata"
  },
  "language_info": {
   "codemirror_mode": {
    "name": "ipython",
    "version": 3
   },
   "file_extension": ".py",
   "mimetype": "text/x-python",
   "name": "python",
   "nbconvert_exporter": "python",
   "pygments_lexer": "ipython3",
   "version": "3.7.6"
  }
 },
 "nbformat": 4,
 "nbformat_minor": 5
}
