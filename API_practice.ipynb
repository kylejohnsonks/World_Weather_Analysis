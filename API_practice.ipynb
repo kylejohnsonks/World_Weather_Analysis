{
 "cells": [
  {
   "cell_type": "code",
   "execution_count": 41,
   "id": "fc55f9d6",
   "metadata": {},
   "outputs": [],
   "source": [
    "# Use the citipy module to determine city based on latitude and longitude.\n",
    "from citipy import citipy"
   ]
  },
  {
   "cell_type": "code",
   "execution_count": 42,
   "id": "988f1b01",
   "metadata": {},
   "outputs": [],
   "source": [
    "# Create a practice set of random latitude and longitude combinations.\n",
    "x = [25.12903645, 25.92017388, 26.62509167, -59.98969384, 37.30571269]\n",
    "y = [-67.59741259, 11.09532135, 74.84233102, -76.89176677, -61.13376282]\n",
    "coordinates = zip(x, y)"
   ]
  },
  {
   "cell_type": "code",
   "execution_count": 43,
   "id": "95cab235",
   "metadata": {},
   "outputs": [],
   "source": [
    "#Use tuple function to display lat/lng pairs\n",
    "#for coordinate in coordinates:\n",
    " #   print(coordinate[0],coordinate[1])"
   ]
  },
  {
   "cell_type": "code",
   "execution_count": 44,
   "id": "b3776a63",
   "metadata": {},
   "outputs": [
    {
     "data": {
      "text/plain": [
       "[(25.12903645, -67.59741259),\n",
       " (25.92017388, 11.09532135),\n",
       " (26.62509167, 74.84233102),\n",
       " (-59.98969384, -76.89176677),\n",
       " (37.30571269, -61.13376282)]"
      ]
     },
     "execution_count": 44,
     "metadata": {},
     "output_type": "execute_result"
    }
   ],
   "source": [
    "coordinate_list=list(coordinates)\n",
    "coordinate_list"
   ]
  },
  {
   "cell_type": "code",
   "execution_count": 45,
   "id": "90c1d990",
   "metadata": {},
   "outputs": [],
   "source": [
    "#for coordinate in coordinates:\n",
    " #   print(citipy.nearest_city(coordinate[0],coordinate[1]).city_name,\n",
    "  #        citipy.nearest_city(coordinate[0],coordinate[1]).country_code)"
   ]
  },
  {
   "cell_type": "code",
   "execution_count": 46,
   "id": "2af82239",
   "metadata": {},
   "outputs": [
    {
     "name": "stdout",
     "output_type": "stream",
     "text": [
      "cockburn town tc\n",
      "gat ly\n",
      "parvatsar in\n",
      "punta arenas cl\n",
      "saint george bm\n"
     ]
    }
   ],
   "source": [
    "# Use the tuple() function to display the latitude and longitude combinations.\n",
    "for coordinate in coordinate_list:\n",
    "    print(citipy.nearest_city(coordinate[0], coordinate[1]).city_name,\n",
    "          citipy.nearest_city(coordinate[0], coordinate[1]).country_code)\n"
   ]
  },
  {
   "cell_type": "code",
   "execution_count": 47,
   "id": "2695f0fa",
   "metadata": {},
   "outputs": [],
   "source": [
    "#import requests library\n",
    "import requests\n",
    "\n",
    "#import API key\n",
    "from config import weather_api_key"
   ]
  },
  {
   "cell_type": "code",
   "execution_count": 49,
   "id": "8391d7c2",
   "metadata": {},
   "outputs": [],
   "source": [
    "#starting URL for Weather Map API Call\n",
    "url = \"http://api.openweathermap.org/data/2.5/weather?units=Imperial&APPID=\" + weather_api_key\n"
   ]
  },
  {
   "cell_type": "code",
   "execution_count": 50,
   "id": "e20c9a19",
   "metadata": {},
   "outputs": [],
   "source": [
    "#add city to url\n",
    "city_url=url+\"&q=\"+\"Boston\"\n"
   ]
  },
  {
   "cell_type": "code",
   "execution_count": 51,
   "id": "51e54dc0",
   "metadata": {},
   "outputs": [],
   "source": [
    "#use .get() to retrieve weather\n",
    "city_weather=requests.get(city_url)"
   ]
  },
  {
   "cell_type": "code",
   "execution_count": 52,
   "id": "37b98f20",
   "metadata": {},
   "outputs": [
    {
     "data": {
      "text/plain": [
       "<Response [200]>"
      ]
     },
     "execution_count": 52,
     "metadata": {},
     "output_type": "execute_result"
    }
   ],
   "source": [
    "city_weather"
   ]
  },
  {
   "cell_type": "code",
   "execution_count": 58,
   "id": "0f8355fe",
   "metadata": {},
   "outputs": [
    {
     "data": {
      "text/plain": [
       "{'coord': {'lon': -71.0598, 'lat': 42.3584},\n",
       " 'weather': [{'id': 803,\n",
       "   'main': 'Clouds',\n",
       "   'description': 'broken clouds',\n",
       "   'icon': '04d'}],\n",
       " 'base': 'stations',\n",
       " 'main': {'temp': 37.56,\n",
       "  'feels_like': 30.99,\n",
       "  'temp_min': 33.64,\n",
       "  'temp_max': 39.31,\n",
       "  'pressure': 1012,\n",
       "  'humidity': 44},\n",
       " 'visibility': 10000,\n",
       " 'wind': {'speed': 9.22, 'deg': 270},\n",
       " 'clouds': {'all': 75},\n",
       " 'dt': 1638119695,\n",
       " 'sys': {'type': 1,\n",
       "  'id': 3486,\n",
       "  'country': 'US',\n",
       "  'sunrise': 1638100259,\n",
       "  'sunset': 1638134042},\n",
       " 'timezone': -18000,\n",
       " 'id': 4930956,\n",
       " 'name': 'Boston',\n",
       " 'cod': 200}"
      ]
     },
     "execution_count": 58,
     "metadata": {},
     "output_type": "execute_result"
    }
   ],
   "source": [
    "#Get JSON\n",
    "city_weather.json()"
   ]
  }
 ],
 "metadata": {
  "kernelspec": {
   "display_name": "PythonData",
   "language": "python",
   "name": "pythondata"
  },
  "language_info": {
   "codemirror_mode": {
    "name": "ipython",
    "version": 3
   },
   "file_extension": ".py",
   "mimetype": "text/x-python",
   "name": "python",
   "nbconvert_exporter": "python",
   "pygments_lexer": "ipython3",
   "version": "3.7.6"
  }
 },
 "nbformat": 4,
 "nbformat_minor": 5
}
