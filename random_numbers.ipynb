{
 "cells": [
  {
   "cell_type": "code",
   "execution_count": 42,
   "id": "eb74879b",
   "metadata": {},
   "outputs": [],
   "source": [
    "#import dependencies\n",
    "import random\n",
    "import numpy as np\n",
    "import pandas as pd\n",
    "import timeit"
   ]
  },
  {
   "cell_type": "code",
   "execution_count": 13,
   "id": "d18c9014",
   "metadata": {},
   "outputs": [
    {
     "data": {
      "text/plain": [
       "['A', 'A', 'A', 'B', 'A', 'B', 'A', 'B', 'A', 'B']"
      ]
     },
     "execution_count": 13,
     "metadata": {},
     "output_type": "execute_result"
    }
   ],
   "source": [
    "#pop=[\"A\"]*50\n",
    "#pop=pop+([\"B\"]*30)+([\"A\"]*20)\n",
    "#x=random.sample(pop,10)\n",
    "#x"
   ]
  },
  {
   "cell_type": "code",
   "execution_count": 17,
   "id": "e16d8255",
   "metadata": {},
   "outputs": [
    {
     "data": {
      "text/plain": [
       "82"
      ]
     },
     "execution_count": 17,
     "metadata": {},
     "output_type": "execute_result"
    }
   ],
   "source": [
    "random.randint(-90,90)"
   ]
  },
  {
   "cell_type": "code",
   "execution_count": 18,
   "id": "2a55d5d3",
   "metadata": {},
   "outputs": [
    {
     "data": {
      "text/plain": [
       "0.4473026846255309"
      ]
     },
     "execution_count": 18,
     "metadata": {},
     "output_type": "execute_result"
    }
   ],
   "source": [
    "random.random()"
   ]
  },
  {
   "cell_type": "code",
   "execution_count": 20,
   "id": "90fa92b4",
   "metadata": {},
   "outputs": [
    {
     "data": {
      "text/plain": [
       "[-44.09295433017688,\n",
       " -25.227774232815946,\n",
       " 70.09707185963644,\n",
       " 38.14649730430678,\n",
       " -25.695877383400443,\n",
       " 75.0565834655029,\n",
       " 4.7829764389373635,\n",
       " 8.995568022806689,\n",
       " 49.45057450798538,\n",
       " -65.72840954130935]"
      ]
     },
     "execution_count": 20,
     "metadata": {},
     "output_type": "execute_result"
    }
   ],
   "source": [
    "x=1\n",
    "latitudes=[]\n",
    "while x<11:\n",
    "    random_lat=random.randint(-90,89)+random.random()\n",
    "    latitudes.append(random_lat)\n",
    "    x+=1\n",
    "latitudes"
   ]
  },
  {
   "cell_type": "code",
   "execution_count": 36,
   "id": "4c7dad34",
   "metadata": {},
   "outputs": [
    {
     "data": {
      "text/plain": [
       "-87"
      ]
     },
     "execution_count": 36,
     "metadata": {},
     "output_type": "execute_result"
    }
   ],
   "source": [
    "random.randrange(-90,90,3)"
   ]
  },
  {
   "cell_type": "code",
   "execution_count": 38,
   "id": "7c27a716",
   "metadata": {},
   "outputs": [
    {
     "data": {
      "text/plain": [
       "57.63864624469957"
      ]
     },
     "execution_count": 38,
     "metadata": {},
     "output_type": "execute_result"
    }
   ],
   "source": [
    "random.uniform(-90,90)"
   ]
  },
  {
   "cell_type": "code",
   "execution_count": 44,
   "id": "3e90aaa3",
   "metadata": {},
   "outputs": [
    {
     "name": "stdout",
     "output_type": "stream",
     "text": [
      "14.8 µs ± 12.9 ns per loop (mean ± std. dev. of 7 runs, 100000 loops each)\n"
     ]
    }
   ],
   "source": [
    "%timeit np.random.uniform(-90,90,size=1500)"
   ]
  },
  {
   "cell_type": "code",
   "execution_count": 49,
   "id": "5fd67b33",
   "metadata": {},
   "outputs": [
    {
     "name": "stdout",
     "output_type": "stream",
     "text": [
      "1.77 ms ± 11.7 µs per loop (mean ± std. dev. of 7 runs, 1000 loops each)\n"
     ]
    }
   ],
   "source": [
    "#define latitues function with size input\n",
    "def latitudes(size):\n",
    "    latitudes=[]\n",
    "    x=0\n",
    "    size_array=np.arange(0,size)\n",
    "    size_list=[]\n",
    "        \n",
    "    size_list=[entry for entry in size_array]\n",
    "    \n",
    "    for x in size_list:\n",
    "        random_lat=random.randint(-90,89)+random.random()\n",
    "        latitudes.append(random_lat)\n",
    "        x+=1\n",
    "    return latitudes\n",
    "#Call function with 1500\n",
    "%timeit latitudes(1500)    "
   ]
  },
  {
   "cell_type": "code",
   "execution_count": null,
   "id": "dff6e348",
   "metadata": {},
   "outputs": [],
   "source": []
  }
 ],
 "metadata": {
  "kernelspec": {
   "display_name": "PythonData",
   "language": "python",
   "name": "pythondata"
  },
  "language_info": {
   "codemirror_mode": {
    "name": "ipython",
    "version": 3
   },
   "file_extension": ".py",
   "mimetype": "text/x-python",
   "name": "python",
   "nbconvert_exporter": "python",
   "pygments_lexer": "ipython3",
   "version": "3.7.6"
  }
 },
 "nbformat": 4,
 "nbformat_minor": 5
}
