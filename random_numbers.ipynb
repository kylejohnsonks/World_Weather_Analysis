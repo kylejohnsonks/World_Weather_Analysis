{
 "cells": [
  {
   "cell_type": "code",
   "execution_count": 2,
   "id": "eb74879b",
   "metadata": {},
   "outputs": [],
   "source": [
    "#import dependencies\n",
    "import random\n",
    "import numpy as np\n",
    "import pandas as pd\n",
    "import timeit\n",
    "from scipy.stats import linregress\n",
    "import matplotlib.pyplot as plt"
   ]
  },
  {
   "cell_type": "code",
   "execution_count": 3,
   "id": "d18c9014",
   "metadata": {},
   "outputs": [],
   "source": [
    "#pop=[\"A\"]*50\n",
    "#pop=pop+([\"B\"]*30)+([\"A\"]*20)\n",
    "#x=random.sample(pop,10)\n",
    "#x"
   ]
  },
  {
   "cell_type": "code",
   "execution_count": 4,
   "id": "e16d8255",
   "metadata": {},
   "outputs": [
    {
     "data": {
      "text/plain": [
       "-14"
      ]
     },
     "execution_count": 4,
     "metadata": {},
     "output_type": "execute_result"
    }
   ],
   "source": [
    "random.randint(-90,90)"
   ]
  },
  {
   "cell_type": "code",
   "execution_count": 5,
   "id": "2a55d5d3",
   "metadata": {},
   "outputs": [
    {
     "data": {
      "text/plain": [
       "0.9197650279878712"
      ]
     },
     "execution_count": 5,
     "metadata": {},
     "output_type": "execute_result"
    }
   ],
   "source": [
    "random.random()"
   ]
  },
  {
   "cell_type": "code",
   "execution_count": 6,
   "id": "90fa92b4",
   "metadata": {},
   "outputs": [
    {
     "data": {
      "text/plain": [
       "[-27.072120954092465,\n",
       " -42.727708545032385,\n",
       " 48.494293292997924,\n",
       " -79.03452131189749,\n",
       " -69.63739064011402,\n",
       " 75.12733597630607,\n",
       " 2.101067231449252,\n",
       " -40.41070490515612,\n",
       " -58.138629127319795,\n",
       " -62.64397619984673]"
      ]
     },
     "execution_count": 6,
     "metadata": {},
     "output_type": "execute_result"
    }
   ],
   "source": [
    "x=1\n",
    "latitudes=[]\n",
    "while x<11:\n",
    "    random_lat=random.randint(-90,89)+random.random()\n",
    "    latitudes.append(random_lat)\n",
    "    x+=1\n",
    "latitudes"
   ]
  },
  {
   "cell_type": "code",
   "execution_count": 7,
   "id": "4c7dad34",
   "metadata": {},
   "outputs": [
    {
     "data": {
      "text/plain": [
       "69"
      ]
     },
     "execution_count": 7,
     "metadata": {},
     "output_type": "execute_result"
    }
   ],
   "source": [
    "random.randrange(-90,90,3)"
   ]
  },
  {
   "cell_type": "code",
   "execution_count": 8,
   "id": "7c27a716",
   "metadata": {},
   "outputs": [
    {
     "data": {
      "text/plain": [
       "-55.647005207672976"
      ]
     },
     "execution_count": 8,
     "metadata": {},
     "output_type": "execute_result"
    }
   ],
   "source": [
    "random.uniform(-90,90)"
   ]
  },
  {
   "cell_type": "code",
   "execution_count": 9,
   "id": "3e90aaa3",
   "metadata": {},
   "outputs": [
    {
     "name": "stdout",
     "output_type": "stream",
     "text": [
      "12.1 µs ± 37.6 ns per loop (mean ± std. dev. of 7 runs, 100000 loops each)\n"
     ]
    }
   ],
   "source": [
    "%timeit np.random.uniform(-90,90,size=1500)"
   ]
  },
  {
   "cell_type": "code",
   "execution_count": 10,
   "id": "5fd67b33",
   "metadata": {},
   "outputs": [
    {
     "name": "stdout",
     "output_type": "stream",
     "text": [
      "1.72 ms ± 3.35 µs per loop (mean ± std. dev. of 7 runs, 1000 loops each)\n"
     ]
    }
   ],
   "source": [
    "#define latitues function with size input\n",
    "def latitudes(size):\n",
    "    latitudes=[]\n",
    "    x=0\n",
    "    size_array=np.arange(0,size)\n",
    "    size_list=[]\n",
    "        \n",
    "    size_list=[entry for entry in size_array]\n",
    "    \n",
    "    for x in size_list:\n",
    "        random_lat=random.randint(-90,89)+random.random()\n",
    "        latitudes.append(random_lat)\n",
    "        x+=1\n",
    "    return latitudes\n",
    "#Call function with 1500\n",
    "%timeit latitudes(1500)    "
   ]
  },
  {
   "cell_type": "code",
   "execution_count": 11,
   "id": "dff6e348",
   "metadata": {},
   "outputs": [],
   "source": [
    "# Create an equal number of latitudes and temperatures.\n",
    "lats = [42.5, 43.9, 8.1, 36.8, 79.9, 69.1, 25.7, 15.3, 12.7, 64.5]\n",
    "temps = [80.5, 75.3, 90.9, 90.0, 40.4, 62.3, 85.4, 79.6, 72.5, 72.0]"
   ]
  },
  {
   "cell_type": "code",
   "execution_count": 12,
   "id": "5300e4ea",
   "metadata": {},
   "outputs": [
    {
     "name": "stdout",
     "output_type": "stream",
     "text": [
      "y = -0.45x + 92.94\n",
      "r value=-0.759. p value = 0.011.\n"
     ]
    }
   ],
   "source": [
    "#perform linerar regression\n",
    "(slope, intercept, r_value, p_value, stderr)=linregress(lats,temps)\n",
    "\n",
    "line_eq= \"y = \"+str(round(slope,2))+\"x + \"+str(round(intercept,2))\n",
    "print(line_eq)\n",
    "print(f\"r value={r_value:.3f}. p value = {p_value:.3f}.\")"
   ]
  },
  {
   "cell_type": "code",
   "execution_count": 13,
   "id": "f9194d5f",
   "metadata": {},
   "outputs": [
    {
     "data": {
      "text/plain": [
       "[73.68973782871005,\n",
       " 73.05563705897195,\n",
       " 89.2704995994175,\n",
       " 76.27143381978658,\n",
       " 56.750188694278094,\n",
       " 61.64182320368626,\n",
       " 81.29894706556718,\n",
       " 86.00940992647874,\n",
       " 87.18702564170663,\n",
       " 63.72529716139714]"
      ]
     },
     "execution_count": 13,
     "metadata": {},
     "output_type": "execute_result"
    }
   ],
   "source": [
    "regress_values=[(lat*slope+intercept) for lat in lats]\n",
    "regress_values"
   ]
  },
  {
   "cell_type": "code",
   "execution_count": 10,
   "id": "48bf9690",
   "metadata": {},
   "outputs": [
    {
     "data": {
      "image/png": "[encoded data removed]",
      "text/plain": [
       "<Figure size 432x288 with 1 Axes>"
      ]
     },
     "metadata": {
      "needs_background": "light"
     },
     "output_type": "display_data"
    }
   ],
   "source": [
    "#create a scatter plot of values\n",
    "plt.scatter(lats,temps,label=\"Cities\", \n",
    "            linewidths=1, edgecolors=\"black\",\n",
    "           alpha=.8)\n",
    "# Plot the regression line with the x-values and the y coordinates based on the intercept and slope.\n",
    "plt.plot(lats,regress_values,\"r\")\n",
    "\n",
    "# Annotate the text for the line equation and add its coordinates.\n",
    "plt.annotate(line_eq, (10,40), fontsize=15, color=\"red\")\n",
    "plt.xlabel('Latitude')\n",
    "plt.ylabel('Temp')\n",
    "plt.show()"
   ]
  },
  {
   "cell_type": "code",
   "execution_count": null,
   "id": "1acdc3ca",
   "metadata": {},
   "outputs": [],
   "source": []
  }
 ],
 "metadata": {
  "kernelspec": {
   "display_name": "PythonData",
   "language": "python",
   "name": "pythondata"
  },
  "language_info": {
   "codemirror_mode": {
    "name": "ipython",
    "version": 3
   },
   "file_extension": ".py",
   "mimetype": "text/x-python",
   "name": "python",
   "nbconvert_exporter": "python",
   "pygments_lexer": "ipython3",
   "version": "3.7.6"
  }
 },
 "nbformat": 4,
 "nbformat_minor": 5
}
